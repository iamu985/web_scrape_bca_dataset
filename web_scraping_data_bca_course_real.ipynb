{
 "cells": [
  {
   "cell_type": "markdown",
   "metadata": {},
   "source": [
    "<h2><b>Introduction</b></h2><br>\n",
    "<h3>The objective of this project is to create my personal database  on colleges offering Under Graduate course on Computer Application. Since I am thinking of taking upon that course I asked why not make my search for college easier by web scraping valuable information at once  rather than going over the site and spending hours clicking on the hyperlinks.<h3>"
   ]
  },
  {
   "cell_type": "code",
   "execution_count": 1,
   "metadata": {},
   "outputs": [],
   "source": [
    "import numpy as np\n",
    "import pandas as pd\n",
    "import requests\n",
    "from bs4 import BeautifulSoup"
   ]
  },
  {
   "cell_type": "code",
   "execution_count": 2,
   "metadata": {},
   "outputs": [],
   "source": [
    "url = 'https://www.shiksha.com/it-software/colleges/bca-colleges-kolkata?rf=searchWidget&landing=ctp'\n",
    "response = requests.get(url)"
   ]
  },
  {
   "cell_type": "code",
   "execution_count": 3,
   "metadata": {},
   "outputs": [
    {
     "data": {
      "text/plain": [
       "<Response [200]>"
      ]
     },
     "execution_count": 3,
     "metadata": {},
     "output_type": "execute_result"
    }
   ],
   "source": [
    "#cheching if the GET query was successful\n",
    "response"
   ]
  },
  {
   "cell_type": "code",
   "execution_count": 4,
   "metadata": {},
   "outputs": [],
   "source": [
    "#creating web scraping object\n",
    "soup = BeautifulSoup(response.text, 'html.parser')"
   ]
  },
  {
   "cell_type": "code",
   "execution_count": 6,
   "metadata": {},
   "outputs": [],
   "source": [
    "college_soup = soup.find_all('strong', {'class': 'instNamev2'})\n",
    "addr_soup = soup.find_all('span', {'class': 'instLoc'})"
   ]
  },
  {
   "cell_type": "code",
   "execution_count": 8,
   "metadata": {},
   "outputs": [
    {
     "data": {
      "text/plain": [
       "(30, 30)"
      ]
     },
     "execution_count": 8,
     "metadata": {},
     "output_type": "execute_result"
    }
   ],
   "source": [
    "#size of our datas\n",
    "len(college_soup), len(addr_soup)"
   ]
  },
  {
   "cell_type": "markdown",
   "metadata": {},
   "source": [
    "<h3>Extracting the values for fees and course rating was kind of tricky since the tags had multiple variables under it. So I had to come up with a slightly different approach to extract valuable information from it.</h3>"
   ]
  },
  {
   "cell_type": "code",
   "execution_count": 13,
   "metadata": {},
   "outputs": [],
   "source": [
    "uniqueLabl1_soup = soup.find_all('label', {'class': 'blockLabel'})\n",
    "uniqueLabl2_soup = soup.find_all('div', {'class': 'valueTxt'})"
   ]
  },
  {
   "cell_type": "code",
   "execution_count": 15,
   "metadata": {},
   "outputs": [
    {
     "data": {
      "text/plain": [
       "(180, 180)"
      ]
     },
     "execution_count": 15,
     "metadata": {},
     "output_type": "execute_result"
    }
   ],
   "source": [
    "#size of the above labls\n",
    "len(uniqueLabl1_soup), len(uniqueLabl2_soup)"
   ]
  },
  {
   "cell_type": "markdown",
   "metadata": {},
   "source": [
    "<h3>As you can see the size of college_soup and addr_soup is 30 whereas the size of uniqeLabl1_soup and uniqueLabl2_soup is 180. A clear proof that the latter holds much more information than the other two. Also these values are not in generic form as you can see below. Its a bunch of html tags and parameters.</h3>"
   ]
  },
  {
   "cell_type": "code",
   "execution_count": 16,
   "metadata": {},
   "outputs": [
    {
     "data": {
      "text/plain": [
       "[<strong class=\"instNamev2\" title=\"MAKAUT - Maulana Abul Kalam Azad University of Technology\">MAKAUT - Maulana Abul Kalam Azad University of Technology</strong>,\n",
       " <strong class=\"instNamev2\" title=\"Adamas University\">Adamas University</strong>,\n",
       " <strong class=\"instNamev2\" title=\"Dinabandhu Andrews Institute of Technology and Management\">Dinabandhu Andrews Institute of Technology and Management</strong>,\n",
       " <strong class=\"instNamev2\" title=\"NSHM Knowledge Campus, Kolkata\">NSHM Knowledge Campus, Kolkata</strong>]"
      ]
     },
     "execution_count": 16,
     "metadata": {},
     "output_type": "execute_result"
    }
   ],
   "source": [
    "#as for now our data values looks like this\n",
    "college_soup[:4]"
   ]
  },
  {
   "cell_type": "code",
   "execution_count": 17,
   "metadata": {},
   "outputs": [
    {
     "data": {
      "text/plain": [
       "[<span class=\"instLoc\"><i class=\"ctpSprite ctpv2-loc\"></i>Salt Lake City, Kolkata</span>,\n",
       " <span class=\"instLoc\"><i class=\"ctpSprite ctpv2-loc\"></i>Barasat, Kolkata</span>,\n",
       " <span class=\"instLoc\"><i class=\"ctpSprite ctpv2-loc\"></i>Patuli, Kolkata</span>,\n",
       " <span class=\"instLoc\"><i class=\"ctpSprite ctpv2-loc\"></i>Tollygunge, Kolkata</span>]"
      ]
     },
     "execution_count": 17,
     "metadata": {},
     "output_type": "execute_result"
    }
   ],
   "source": [
    "addr_soup[:4]"
   ]
  },
  {
   "cell_type": "code",
   "execution_count": 18,
   "metadata": {},
   "outputs": [
    {
     "data": {
      "text/plain": [
       "[<label class=\"blockLabel\"><span class=\"truncateTxt\">BCA</span> Courses</label>,\n",
       " <label class=\"blockLabel truncateTxt\">Exams</label>,\n",
       " <label class=\"blockLabel\">Total Fees</label>,\n",
       " <label class=\"blockLabel\">Median Salary</label>]"
      ]
     },
     "execution_count": 18,
     "metadata": {},
     "output_type": "execute_result"
    }
   ],
   "source": [
    "uniqueLabl1_soup[:4]"
   ]
  },
  {
   "cell_type": "code",
   "execution_count": 19,
   "metadata": {},
   "outputs": [
    {
     "data": {
      "text/plain": [
       "[<div class=\"valueTxt\"><a class=\"ripple dark\" history=\"[object Object]\" href=\"/university/makaut-maulana-abul-kalam-azad-university-of-technology-kolkata-51181/courses?s[]=8&amp;bc[]=33&amp;ed[]=et_20&amp;ct[]=130\" location=\"[object Object]\" match=\"[object Object]\" staticcontext=\"[object Object]\">1 Course</a></div>,\n",
       " <div class=\"valueTxt\"><div class=\"exams-flex\">─</div></div>,\n",
       " <div class=\"valueTxt\">─</div>,\n",
       " <div class=\"valueTxt\">─</div>]"
      ]
     },
     "execution_count": 19,
     "metadata": {},
     "output_type": "execute_result"
    }
   ],
   "source": [
    "uniqueLabl2_soup[:4]"
   ]
  },
  {
   "cell_type": "code",
   "execution_count": 28,
   "metadata": {},
   "outputs": [],
   "source": [
    "colleges = [college_soup[i].text for i in range(len(college_soup))]\n",
    "addresses = [addr_soup[i].text for i in range(len(addr_soup))]\n",
    "uniq1 = [uniqueLabl1_soup[i].text for i in range(len(uniqueLabl1_soup))]\n",
    "uniq2 = [uniqueLabl2_soup[i].text for i in range(len(uniqueLabl2_soup))]"
   ]
  },
  {
   "cell_type": "markdown",
   "metadata": {},
   "source": [
    "<h3>Now the data converted into generic form. </h3>"
   ]
  },
  {
   "cell_type": "code",
   "execution_count": 21,
   "metadata": {},
   "outputs": [
    {
     "data": {
      "text/plain": [
       "['MAKAUT - Maulana Abul Kalam Azad University of Technology',\n",
       " 'Adamas University',\n",
       " 'Dinabandhu Andrews Institute of Technology and Management',\n",
       " 'NSHM Knowledge Campus, Kolkata']"
      ]
     },
     "execution_count": 21,
     "metadata": {},
     "output_type": "execute_result"
    }
   ],
   "source": [
    "colleges[:4]"
   ]
  },
  {
   "cell_type": "code",
   "execution_count": 22,
   "metadata": {},
   "outputs": [
    {
     "data": {
      "text/plain": [
       "['Salt Lake City, Kolkata',\n",
       " 'Barasat, Kolkata',\n",
       " 'Patuli, Kolkata',\n",
       " 'Tollygunge, Kolkata']"
      ]
     },
     "execution_count": 22,
     "metadata": {},
     "output_type": "execute_result"
    }
   ],
   "source": [
    "addresses[:4]"
   ]
  },
  {
   "cell_type": "code",
   "execution_count": 29,
   "metadata": {},
   "outputs": [
    {
     "data": {
      "text/plain": [
       "['BCA Courses', 'Exams', 'Total Fees', 'Median Salary']"
      ]
     },
     "execution_count": 29,
     "metadata": {},
     "output_type": "execute_result"
    }
   ],
   "source": [
    "uniq1[:4]"
   ]
  },
  {
   "cell_type": "code",
   "execution_count": 30,
   "metadata": {},
   "outputs": [
    {
     "data": {
      "text/plain": [
       "['1 Course', '─', '─', '─']"
      ]
     },
     "execution_count": 30,
     "metadata": {},
     "output_type": "execute_result"
    }
   ],
   "source": [
    "uniq2[:4]"
   ]
  },
  {
   "cell_type": "code",
   "execution_count": 31,
   "metadata": {},
   "outputs": [],
   "source": [
    "#creating a dataset\n",
    "data_to_put = {\n",
    "    'college' : colleges,\n",
    "    'addresses' : addresses,\n",
    "}"
   ]
  },
  {
   "cell_type": "code",
   "execution_count": 33,
   "metadata": {},
   "outputs": [
    {
     "data": {
      "text/html": [
       "<div>\n",
       "<style scoped>\n",
       "    .dataframe tbody tr th:only-of-type {\n",
       "        vertical-align: middle;\n",
       "    }\n",
       "\n",
       "    .dataframe tbody tr th {\n",
       "        vertical-align: top;\n",
       "    }\n",
       "\n",
       "    .dataframe thead th {\n",
       "        text-align: right;\n",
       "    }\n",
       "</style>\n",
       "<table border=\"1\" class=\"dataframe\">\n",
       "  <thead>\n",
       "    <tr style=\"text-align: right;\">\n",
       "      <th></th>\n",
       "      <th>college</th>\n",
       "      <th>addresses</th>\n",
       "    </tr>\n",
       "  </thead>\n",
       "  <tbody>\n",
       "    <tr>\n",
       "      <th>0</th>\n",
       "      <td>MAKAUT - Maulana Abul Kalam Azad University of...</td>\n",
       "      <td>Salt Lake City, Kolkata</td>\n",
       "    </tr>\n",
       "    <tr>\n",
       "      <th>1</th>\n",
       "      <td>Adamas University</td>\n",
       "      <td>Barasat, Kolkata</td>\n",
       "    </tr>\n",
       "    <tr>\n",
       "      <th>2</th>\n",
       "      <td>Dinabandhu Andrews Institute of Technology and...</td>\n",
       "      <td>Patuli, Kolkata</td>\n",
       "    </tr>\n",
       "    <tr>\n",
       "      <th>3</th>\n",
       "      <td>NSHM Knowledge Campus, Kolkata</td>\n",
       "      <td>Tollygunge, Kolkata</td>\n",
       "    </tr>\n",
       "    <tr>\n",
       "      <th>4</th>\n",
       "      <td>Brainware University</td>\n",
       "      <td>Barasat, Kolkata</td>\n",
       "    </tr>\n",
       "  </tbody>\n",
       "</table>\n",
       "</div>"
      ],
      "text/plain": [
       "                                             college                addresses\n",
       "0  MAKAUT - Maulana Abul Kalam Azad University of...  Salt Lake City, Kolkata\n",
       "1                                  Adamas University         Barasat, Kolkata\n",
       "2  Dinabandhu Andrews Institute of Technology and...          Patuli, Kolkata\n",
       "3                     NSHM Knowledge Campus, Kolkata      Tollygunge, Kolkata\n",
       "4                               Brainware University         Barasat, Kolkata"
      ]
     },
     "execution_count": 33,
     "metadata": {},
     "output_type": "execute_result"
    }
   ],
   "source": [
    "df = pd.DataFrame(data_to_put)\n",
    "df.head()"
   ]
  },
  {
   "cell_type": "markdown",
   "metadata": {},
   "source": [
    "<h3>As stated before the collge and address values were fine from the start but the unique values had to be manipulated a little. So to solve the problem of too many values, I converted the unique labels to a temporary dataframe whereby I extracted the values for 'Total Fees' label and 'Course Rating' Label only.</h3>"
   ]
  },
  {
   "cell_type": "code",
   "execution_count": 35,
   "metadata": {},
   "outputs": [
    {
     "data": {
      "text/html": [
       "<div>\n",
       "<style scoped>\n",
       "    .dataframe tbody tr th:only-of-type {\n",
       "        vertical-align: middle;\n",
       "    }\n",
       "\n",
       "    .dataframe tbody tr th {\n",
       "        vertical-align: top;\n",
       "    }\n",
       "\n",
       "    .dataframe thead th {\n",
       "        text-align: right;\n",
       "    }\n",
       "</style>\n",
       "<table border=\"1\" class=\"dataframe\">\n",
       "  <thead>\n",
       "    <tr style=\"text-align: right;\">\n",
       "      <th></th>\n",
       "      <th>labels</th>\n",
       "      <th>values</th>\n",
       "    </tr>\n",
       "  </thead>\n",
       "  <tbody>\n",
       "    <tr>\n",
       "      <th>0</th>\n",
       "      <td>BCA Courses</td>\n",
       "      <td>1 Course</td>\n",
       "    </tr>\n",
       "    <tr>\n",
       "      <th>1</th>\n",
       "      <td>Exams</td>\n",
       "      <td>─</td>\n",
       "    </tr>\n",
       "    <tr>\n",
       "      <th>2</th>\n",
       "      <td>Total Fees</td>\n",
       "      <td>─</td>\n",
       "    </tr>\n",
       "    <tr>\n",
       "      <th>3</th>\n",
       "      <td>Median Salary</td>\n",
       "      <td>─</td>\n",
       "    </tr>\n",
       "    <tr>\n",
       "      <th>4</th>\n",
       "      <td>Course Rating</td>\n",
       "      <td>5.01</td>\n",
       "    </tr>\n",
       "  </tbody>\n",
       "</table>\n",
       "</div>"
      ],
      "text/plain": [
       "          labels    values\n",
       "0    BCA Courses  1 Course\n",
       "1          Exams         ─\n",
       "2     Total Fees         ─\n",
       "3  Median Salary         ─\n",
       "4  Course Rating      5.01"
      ]
     },
     "execution_count": 35,
     "metadata": {},
     "output_type": "execute_result"
    }
   ],
   "source": [
    "temp_data = {\n",
    "    'labels' : uniq1,\n",
    "    'values' : uniq2,\n",
    "}\n",
    "\n",
    "temp = pd.DataFrame(temp_data)\n",
    "temp.head()"
   ]
  },
  {
   "cell_type": "code",
   "execution_count": 36,
   "metadata": {},
   "outputs": [],
   "source": [
    "temp.set_index('labels', inplace=True)"
   ]
  },
  {
   "cell_type": "code",
   "execution_count": 37,
   "metadata": {},
   "outputs": [
    {
     "data": {
      "text/html": [
       "<div>\n",
       "<style scoped>\n",
       "    .dataframe tbody tr th:only-of-type {\n",
       "        vertical-align: middle;\n",
       "    }\n",
       "\n",
       "    .dataframe tbody tr th {\n",
       "        vertical-align: top;\n",
       "    }\n",
       "\n",
       "    .dataframe thead th {\n",
       "        text-align: right;\n",
       "    }\n",
       "</style>\n",
       "<table border=\"1\" class=\"dataframe\">\n",
       "  <thead>\n",
       "    <tr style=\"text-align: right;\">\n",
       "      <th></th>\n",
       "      <th>values</th>\n",
       "    </tr>\n",
       "    <tr>\n",
       "      <th>labels</th>\n",
       "      <th></th>\n",
       "    </tr>\n",
       "  </thead>\n",
       "  <tbody>\n",
       "    <tr>\n",
       "      <th>BCA Courses</th>\n",
       "      <td>1 Course</td>\n",
       "    </tr>\n",
       "    <tr>\n",
       "      <th>Exams</th>\n",
       "      <td>─</td>\n",
       "    </tr>\n",
       "    <tr>\n",
       "      <th>Total Fees</th>\n",
       "      <td>─</td>\n",
       "    </tr>\n",
       "    <tr>\n",
       "      <th>Median Salary</th>\n",
       "      <td>─</td>\n",
       "    </tr>\n",
       "    <tr>\n",
       "      <th>Course Rating</th>\n",
       "      <td>5.01</td>\n",
       "    </tr>\n",
       "  </tbody>\n",
       "</table>\n",
       "</div>"
      ],
      "text/plain": [
       "                 values\n",
       "labels                 \n",
       "BCA Courses    1 Course\n",
       "Exams                 ─\n",
       "Total Fees            ─\n",
       "Median Salary         ─\n",
       "Course Rating      5.01"
      ]
     },
     "execution_count": 37,
     "metadata": {},
     "output_type": "execute_result"
    }
   ],
   "source": [
    "temp.head()"
   ]
  },
  {
   "cell_type": "code",
   "execution_count": 38,
   "metadata": {},
   "outputs": [],
   "source": [
    "total_fees = temp.loc['Total Fees']"
   ]
  },
  {
   "cell_type": "code",
   "execution_count": 41,
   "metadata": {},
   "outputs": [
    {
     "data": {
      "text/plain": [
       "30"
      ]
     },
     "execution_count": 41,
     "metadata": {},
     "output_type": "execute_result"
    }
   ],
   "source": [
    "len(total_fees)"
   ]
  },
  {
   "cell_type": "code",
   "execution_count": 42,
   "metadata": {},
   "outputs": [],
   "source": [
    "ratings = temp.loc['Course Rating']"
   ]
  },
  {
   "cell_type": "code",
   "execution_count": 43,
   "metadata": {},
   "outputs": [
    {
     "data": {
      "text/plain": [
       "30"
      ]
     },
     "execution_count": 43,
     "metadata": {},
     "output_type": "execute_result"
    }
   ],
   "source": [
    "len(ratings)"
   ]
  },
  {
   "cell_type": "code",
   "execution_count": 47,
   "metadata": {},
   "outputs": [],
   "source": [
    "fees_array = np.array(total_fees['values']).reshape(30, 1)\n",
    "ratings = np.array(ratings['values']).reshape(30, 1)"
   ]
  },
  {
   "cell_type": "code",
   "execution_count": 48,
   "metadata": {},
   "outputs": [],
   "source": [
    "df['total_fees'] = fees_array\n",
    "df['ratings'] = ratings"
   ]
  },
  {
   "cell_type": "code",
   "execution_count": 51,
   "metadata": {},
   "outputs": [
    {
     "data": {
      "text/html": [
       "<div>\n",
       "<style scoped>\n",
       "    .dataframe tbody tr th:only-of-type {\n",
       "        vertical-align: middle;\n",
       "    }\n",
       "\n",
       "    .dataframe tbody tr th {\n",
       "        vertical-align: top;\n",
       "    }\n",
       "\n",
       "    .dataframe thead th {\n",
       "        text-align: right;\n",
       "    }\n",
       "</style>\n",
       "<table border=\"1\" class=\"dataframe\">\n",
       "  <thead>\n",
       "    <tr style=\"text-align: right;\">\n",
       "      <th></th>\n",
       "      <th>college</th>\n",
       "      <th>addresses</th>\n",
       "      <th>total_fees</th>\n",
       "      <th>ratings</th>\n",
       "    </tr>\n",
       "  </thead>\n",
       "  <tbody>\n",
       "    <tr>\n",
       "      <th>0</th>\n",
       "      <td>MAKAUT - Maulana Abul Kalam Azad University of...</td>\n",
       "      <td>Salt Lake City, Kolkata</td>\n",
       "      <td>─</td>\n",
       "      <td>5.01</td>\n",
       "    </tr>\n",
       "    <tr>\n",
       "      <th>1</th>\n",
       "      <td>Adamas University</td>\n",
       "      <td>Barasat, Kolkata</td>\n",
       "      <td>₹ 3.26 L</td>\n",
       "      <td>─</td>\n",
       "    </tr>\n",
       "    <tr>\n",
       "      <th>2</th>\n",
       "      <td>Dinabandhu Andrews Institute of Technology and...</td>\n",
       "      <td>Patuli, Kolkata</td>\n",
       "      <td>₹ 2.13 L</td>\n",
       "      <td>4.523</td>\n",
       "    </tr>\n",
       "    <tr>\n",
       "      <th>3</th>\n",
       "      <td>NSHM Knowledge Campus, Kolkata</td>\n",
       "      <td>Tollygunge, Kolkata</td>\n",
       "      <td>₹ 3.3 L</td>\n",
       "      <td>4.113</td>\n",
       "    </tr>\n",
       "    <tr>\n",
       "      <th>4</th>\n",
       "      <td>Brainware University</td>\n",
       "      <td>Barasat, Kolkata</td>\n",
       "      <td>₹ 2.8 L</td>\n",
       "      <td>4.17</td>\n",
       "    </tr>\n",
       "    <tr>\n",
       "      <th>5</th>\n",
       "      <td>Eminent College of Management and Technology -...</td>\n",
       "      <td>Barasat, Kolkata</td>\n",
       "      <td>₹ 1.25 L</td>\n",
       "      <td>4.82</td>\n",
       "    </tr>\n",
       "    <tr>\n",
       "      <th>6</th>\n",
       "      <td>Techno India University, Kolkata</td>\n",
       "      <td>Salt Lake City, Kolkata</td>\n",
       "      <td>─</td>\n",
       "      <td>4.58</td>\n",
       "    </tr>\n",
       "    <tr>\n",
       "      <th>7</th>\n",
       "      <td>IEM Kolkata - Institute of Engineering and Man...</td>\n",
       "      <td>Salt Lake City, Kolkata</td>\n",
       "      <td>─</td>\n",
       "      <td>4.567</td>\n",
       "    </tr>\n",
       "    <tr>\n",
       "      <th>8</th>\n",
       "      <td>Amity University, Kolkata</td>\n",
       "      <td>Kadampukur, Kolkata</td>\n",
       "      <td>₹ 3.24 L</td>\n",
       "      <td>4.22</td>\n",
       "    </tr>\n",
       "    <tr>\n",
       "      <th>9</th>\n",
       "      <td>Techno International New Town</td>\n",
       "      <td>Rajarhat, Kolkata</td>\n",
       "      <td>─</td>\n",
       "      <td>3.77</td>\n",
       "    </tr>\n",
       "    <tr>\n",
       "      <th>10</th>\n",
       "      <td>George Group of Colleges, Kolkata</td>\n",
       "      <td>B B Ganguly Street, Kolkata</td>\n",
       "      <td>₹ 1.79 L</td>\n",
       "      <td>4.514</td>\n",
       "    </tr>\n",
       "    <tr>\n",
       "      <th>11</th>\n",
       "      <td>NIT - Narula Institute of Technology</td>\n",
       "      <td>Agorpara, Kolkata</td>\n",
       "      <td>₹ 2.07 L</td>\n",
       "      <td>4.411</td>\n",
       "    </tr>\n",
       "    <tr>\n",
       "      <th>12</th>\n",
       "      <td>MSIT - Meghnad Saha Institute of Technology</td>\n",
       "      <td>Uchhepota, Kolkata</td>\n",
       "      <td>₹ 2.02 L</td>\n",
       "      <td>4.32</td>\n",
       "    </tr>\n",
       "    <tr>\n",
       "      <th>13</th>\n",
       "      <td>CIEM - Calcutta Institute Of Engineering &amp; Man...</td>\n",
       "      <td>Tollygunge, Kolkata</td>\n",
       "      <td>₹ 2.2 L</td>\n",
       "      <td>3.73</td>\n",
       "    </tr>\n",
       "    <tr>\n",
       "      <th>14</th>\n",
       "      <td>IAS Academy</td>\n",
       "      <td>Jodhpur Park, Kolkata</td>\n",
       "      <td>₹ 96 K</td>\n",
       "      <td>─</td>\n",
       "    </tr>\n",
       "    <tr>\n",
       "      <th>15</th>\n",
       "      <td>Kingston Educational Institute</td>\n",
       "      <td>Barasat, Kolkata</td>\n",
       "      <td>₹ 1.3 L</td>\n",
       "      <td>─</td>\n",
       "    </tr>\n",
       "    <tr>\n",
       "      <th>16</th>\n",
       "      <td>PITM - Prajnanananda Institute of Technology a...</td>\n",
       "      <td>Park Street, Kolkata</td>\n",
       "      <td>₹ 1.38 L</td>\n",
       "      <td>3.34</td>\n",
       "    </tr>\n",
       "    <tr>\n",
       "      <th>17</th>\n",
       "      <td>IMS - Institute of Management Study</td>\n",
       "      <td>Mukundapur, Kolkata</td>\n",
       "      <td>₹ 2.25 L</td>\n",
       "      <td>4.25</td>\n",
       "    </tr>\n",
       "    <tr>\n",
       "      <th>18</th>\n",
       "      <td>UEM Kolkata - University of Engineering and Ma...</td>\n",
       "      <td>Rajarhat, Kolkata</td>\n",
       "      <td>₹ 3 L</td>\n",
       "      <td>4.011</td>\n",
       "    </tr>\n",
       "    <tr>\n",
       "      <th>19</th>\n",
       "      <td>FIEM - Future Institute of Engineering and Man...</td>\n",
       "      <td>Sonarpur, Kolkata</td>\n",
       "      <td>₹ 2.65 L</td>\n",
       "      <td>3.76</td>\n",
       "    </tr>\n",
       "    <tr>\n",
       "      <th>20</th>\n",
       "      <td>Gurukul Management Studies</td>\n",
       "      <td>Kankinara, Kolkata</td>\n",
       "      <td>₹ 95 K</td>\n",
       "      <td>3.21</td>\n",
       "    </tr>\n",
       "    <tr>\n",
       "      <th>21</th>\n",
       "      <td>Techno India Salt Lake</td>\n",
       "      <td>Salt Lake City, Kolkata</td>\n",
       "      <td>─</td>\n",
       "      <td>4.221</td>\n",
       "    </tr>\n",
       "    <tr>\n",
       "      <th>22</th>\n",
       "      <td>The Heritage Academy</td>\n",
       "      <td>East Calcutta Township, Kolkata</td>\n",
       "      <td>₹ 3.45 L</td>\n",
       "      <td>4.520</td>\n",
       "    </tr>\n",
       "    <tr>\n",
       "      <th>23</th>\n",
       "      <td>NIMAS</td>\n",
       "      <td>Barasat, Kolkata</td>\n",
       "      <td>₹ 1.95 L</td>\n",
       "      <td>2.81</td>\n",
       "    </tr>\n",
       "    <tr>\n",
       "      <th>24</th>\n",
       "      <td>Netaji Subhash Engineering College</td>\n",
       "      <td>Garia, Kolkata</td>\n",
       "      <td>₹ 2.02 L</td>\n",
       "      <td>3.38</td>\n",
       "    </tr>\n",
       "    <tr>\n",
       "      <th>25</th>\n",
       "      <td>Guru Nanak Institute of Technology - GNIT</td>\n",
       "      <td>Sodepur, Kolkata</td>\n",
       "      <td>─</td>\n",
       "      <td>4.07</td>\n",
       "    </tr>\n",
       "    <tr>\n",
       "      <th>26</th>\n",
       "      <td>Annex College Center For Technical and Managem...</td>\n",
       "      <td>Salt Lake City, Kolkata</td>\n",
       "      <td>─</td>\n",
       "      <td>─</td>\n",
       "    </tr>\n",
       "    <tr>\n",
       "      <th>27</th>\n",
       "      <td>SVIMS - Swami Vivekananda Institute of Modern ...</td>\n",
       "      <td>Sonarpur, Kolkata</td>\n",
       "      <td>₹ 1.5 L</td>\n",
       "      <td>2.52</td>\n",
       "    </tr>\n",
       "    <tr>\n",
       "      <th>28</th>\n",
       "      <td>Pailan College of Management and Technology - ...</td>\n",
       "      <td>Joka, Kolkata</td>\n",
       "      <td>₹ 2.08 L</td>\n",
       "      <td>3.33</td>\n",
       "    </tr>\n",
       "    <tr>\n",
       "      <th>29</th>\n",
       "      <td>Brainware Computer Academy</td>\n",
       "      <td>Baguiati, Kolkata</td>\n",
       "      <td>─</td>\n",
       "      <td>─</td>\n",
       "    </tr>\n",
       "  </tbody>\n",
       "</table>\n",
       "</div>"
      ],
      "text/plain": [
       "                                              college  \\\n",
       "0   MAKAUT - Maulana Abul Kalam Azad University of...   \n",
       "1                                   Adamas University   \n",
       "2   Dinabandhu Andrews Institute of Technology and...   \n",
       "3                      NSHM Knowledge Campus, Kolkata   \n",
       "4                                Brainware University   \n",
       "5   Eminent College of Management and Technology -...   \n",
       "6                    Techno India University, Kolkata   \n",
       "7   IEM Kolkata - Institute of Engineering and Man...   \n",
       "8                           Amity University, Kolkata   \n",
       "9                       Techno International New Town   \n",
       "10                  George Group of Colleges, Kolkata   \n",
       "11               NIT - Narula Institute of Technology   \n",
       "12        MSIT - Meghnad Saha Institute of Technology   \n",
       "13  CIEM - Calcutta Institute Of Engineering & Man...   \n",
       "14                                        IAS Academy   \n",
       "15                     Kingston Educational Institute   \n",
       "16  PITM - Prajnanananda Institute of Technology a...   \n",
       "17                IMS - Institute of Management Study   \n",
       "18  UEM Kolkata - University of Engineering and Ma...   \n",
       "19  FIEM - Future Institute of Engineering and Man...   \n",
       "20                         Gurukul Management Studies   \n",
       "21                             Techno India Salt Lake   \n",
       "22                               The Heritage Academy   \n",
       "23                                              NIMAS   \n",
       "24                 Netaji Subhash Engineering College   \n",
       "25          Guru Nanak Institute of Technology - GNIT   \n",
       "26  Annex College Center For Technical and Managem...   \n",
       "27  SVIMS - Swami Vivekananda Institute of Modern ...   \n",
       "28  Pailan College of Management and Technology - ...   \n",
       "29                         Brainware Computer Academy   \n",
       "\n",
       "                          addresses total_fees ratings  \n",
       "0           Salt Lake City, Kolkata          ─    5.01  \n",
       "1                  Barasat, Kolkata   ₹ 3.26 L       ─  \n",
       "2                   Patuli, Kolkata   ₹ 2.13 L   4.523  \n",
       "3               Tollygunge, Kolkata    ₹ 3.3 L   4.113  \n",
       "4                  Barasat, Kolkata    ₹ 2.8 L    4.17  \n",
       "5                  Barasat, Kolkata   ₹ 1.25 L    4.82  \n",
       "6           Salt Lake City, Kolkata          ─    4.58  \n",
       "7           Salt Lake City, Kolkata          ─   4.567  \n",
       "8               Kadampukur, Kolkata   ₹ 3.24 L    4.22  \n",
       "9                 Rajarhat, Kolkata          ─    3.77  \n",
       "10      B B Ganguly Street, Kolkata   ₹ 1.79 L   4.514  \n",
       "11                Agorpara, Kolkata   ₹ 2.07 L   4.411  \n",
       "12               Uchhepota, Kolkata   ₹ 2.02 L    4.32  \n",
       "13              Tollygunge, Kolkata    ₹ 2.2 L    3.73  \n",
       "14            Jodhpur Park, Kolkata     ₹ 96 K       ─  \n",
       "15                 Barasat, Kolkata    ₹ 1.3 L       ─  \n",
       "16             Park Street, Kolkata   ₹ 1.38 L    3.34  \n",
       "17              Mukundapur, Kolkata   ₹ 2.25 L    4.25  \n",
       "18                Rajarhat, Kolkata      ₹ 3 L   4.011  \n",
       "19                Sonarpur, Kolkata   ₹ 2.65 L    3.76  \n",
       "20               Kankinara, Kolkata     ₹ 95 K    3.21  \n",
       "21          Salt Lake City, Kolkata          ─   4.221  \n",
       "22  East Calcutta Township, Kolkata   ₹ 3.45 L   4.520  \n",
       "23                 Barasat, Kolkata   ₹ 1.95 L    2.81  \n",
       "24                   Garia, Kolkata   ₹ 2.02 L    3.38  \n",
       "25                 Sodepur, Kolkata          ─    4.07  \n",
       "26          Salt Lake City, Kolkata          ─       ─  \n",
       "27                Sonarpur, Kolkata    ₹ 1.5 L    2.52  \n",
       "28                    Joka, Kolkata   ₹ 2.08 L    3.33  \n",
       "29                Baguiati, Kolkata          ─       ─  "
      ]
     },
     "execution_count": 51,
     "metadata": {},
     "output_type": "execute_result"
    }
   ],
   "source": [
    "df"
   ]
  },
  {
   "cell_type": "markdown",
   "metadata": {},
   "source": [
    "<h3> And this is our data in its all full glory. </h3>"
   ]
  },
  {
   "cell_type": "code",
   "execution_count": null,
   "metadata": {},
   "outputs": [],
   "source": []
  }
 ],
 "metadata": {
  "kernelspec": {
   "display_name": "Python 3",
   "language": "python",
   "name": "python3"
  },
  "language_info": {
   "codemirror_mode": {
    "name": "ipython",
    "version": 3
   },
   "file_extension": ".py",
   "mimetype": "text/x-python",
   "name": "python",
   "nbconvert_exporter": "python",
   "pygments_lexer": "ipython3",
   "version": "3.8.2"
  }
 },
 "nbformat": 4,
 "nbformat_minor": 4
}
